{
 "cells": [
  {
   "cell_type": "markdown",
   "metadata": {},
   "source": [
    "# Data Preparation of titanic dataset"
   ]
  },
  {
   "cell_type": "code",
   "execution_count": 26,
   "metadata": {
    "execution": {
     "iopub.execute_input": "2021-10-09T08:11:37.182637Z",
     "iopub.status.busy": "2021-10-09T08:11:37.180489Z",
     "iopub.status.idle": "2021-10-09T08:11:37.970799Z"
    }
   },
   "outputs": [],
   "source": [
    "# Load packages\n",
    "library('ggplot2') # visualization\n",
    "#library('ggthemes') # visualization\n",
    "library('scales') # visualization\n",
    "library('dplyr') # data manipulation\n",
    "library('mice') # imputation\n",
    "library(titanic)\n",
    "data(Titanic)\n"
   ]
  },
  {
   "cell_type": "code",
   "execution_count": 27,
   "metadata": {
    "execution": {
     "iopub.execute_input": "2021-10-09T08:11:38.003612Z",
     "iopub.status.busy": "2021-10-09T08:11:37.973151Z",
     "iopub.status.idle": "2021-10-09T08:11:38.073786Z"
    }
   },
   "outputs": [
    {
     "name": "stdout",
     "output_type": "stream",
     "text": [
      "'data.frame':\t1309 obs. of  12 variables:\n",
      " $ PassengerId: int  1 2 3 4 5 6 7 8 9 10 ...\n",
      " $ Survived   : int  0 1 1 1 0 0 0 0 1 1 ...\n",
      " $ Pclass     : int  3 1 3 1 3 3 1 3 3 2 ...\n",
      " $ Name       : chr  \"Braund, Mr. Owen Harris\" \"Cumings, Mrs. John Bradley (Florence Briggs Thayer)\" \"Heikkinen, Miss. Laina\" \"Futrelle, Mrs. Jacques Heath (Lily May Peel)\" ...\n",
      " $ Sex        : chr  \"male\" \"female\" \"female\" \"female\" ...\n",
      " $ Age        : num  22 38 26 35 35 NA 54 2 27 14 ...\n",
      " $ SibSp      : int  1 1 0 1 0 0 0 3 0 1 ...\n",
      " $ Parch      : int  0 0 0 0 0 0 0 1 2 0 ...\n",
      " $ Ticket     : chr  \"A/5 21171\" \"PC 17599\" \"STON/O2. 3101282\" \"113803\" ...\n",
      " $ Fare       : num  7.25 71.28 7.92 53.1 8.05 ...\n",
      " $ Cabin      : chr  \"\" \"C85\" \"\" \"C123\" ...\n",
      " $ Embarked   : chr  \"S\" \"C\" \"S\" \"S\" ...\n"
     ]
    }
   ],
   "source": [
    "train <- titanic_train\n",
    "test  <- titanic_test\n",
    "\n",
    "full  <- bind_rows(train, test) # bind training & test data\n",
    "\n",
    "# check data\n",
    "str(full)"
   ]
  },
  {
   "cell_type": "code",
   "execution_count": 28,
   "metadata": {
    "execution": {
     "iopub.execute_input": "2021-10-09T08:11:38.079033Z",
     "iopub.status.busy": "2021-10-09T08:11:38.077275Z",
     "iopub.status.idle": "2021-10-09T08:11:38.105886Z"
    }
   },
   "outputs": [
    {
     "data": {
      "text/plain": [
       "        \n",
       "         Capt Col Don Dona  Dr Jonkheer Lady Major Master Miss Mlle Mme  Mr Mrs\n",
       "  female    0   0   0    1   1        0    1     0      0  260    2   1   0 197\n",
       "  male      1   4   1    0   7        1    0     2     61    0    0   0 757   0\n",
       "        \n",
       "          Ms Rev Sir the Countess\n",
       "  female   2   0   0            1\n",
       "  male     0   8   1            0"
      ]
     },
     "metadata": {},
     "output_type": "display_data"
    }
   ],
   "source": [
    "# Grab title from passenger names\n",
    "full$Title <- gsub('(.*, )|(\\\\..*)', '', full$Name)\n",
    "\n",
    "# Show title counts by sex\n",
    "table(full$Sex, full$Title)"
   ]
  },
  {
   "cell_type": "code",
   "execution_count": 29,
   "metadata": {
    "execution": {
     "iopub.execute_input": "2021-10-09T08:11:38.110168Z",
     "iopub.status.busy": "2021-10-09T08:11:38.108572Z",
     "iopub.status.idle": "2021-10-09T08:11:38.140065Z"
    }
   },
   "outputs": [
    {
     "data": {
      "text/plain": [
       "        \n",
       "         Master Miss  Mr Mrs Rare Title\n",
       "  female      0  264   0 198          4\n",
       "  male       61    0 757   0         25"
      ]
     },
     "metadata": {},
     "output_type": "display_data"
    }
   ],
   "source": [
    "# Titles with very low cell counts to be combined to \"rare\" level\n",
    "rare_title <- c('Dona', 'Lady', 'the Countess','Capt', 'Col', 'Don', \n",
    "                'Dr', 'Major', 'Rev', 'Sir', 'Jonkheer')\n",
    "\n",
    "# Also reassign mlle, ms, and mme accordingly\n",
    "full$Title[full$Title == 'Mlle']        <- 'Miss' \n",
    "full$Title[full$Title == 'Ms']          <- 'Miss'\n",
    "full$Title[full$Title == 'Mme']         <- 'Mrs' \n",
    "full$Title[full$Title %in% rare_title]  <- 'Rare Title'\n",
    "\n",
    "# Show title counts by sex again\n",
    "table(full$Sex, full$Title)"
   ]
  },
  {
   "cell_type": "code",
   "execution_count": 30,
   "metadata": {
    "execution": {
     "iopub.execute_input": "2021-10-09T08:11:38.144760Z",
     "iopub.status.busy": "2021-10-09T08:11:38.142760Z",
     "iopub.status.idle": "2021-10-09T08:11:38.163749Z"
    }
   },
   "outputs": [],
   "source": [
    "# Create a family size variable including the passenger themselves\n",
    "full$Fsize <- full$SibSp + full$Parch + 1\n",
    "\n",
    "# Create a family variable \n",
    "full$Family <- paste(full$Surname, full$Fsize, sep='_')"
   ]
  },
  {
   "cell_type": "code",
   "execution_count": 31,
   "metadata": {
    "execution": {
     "iopub.execute_input": "2021-10-09T08:11:38.169373Z",
     "iopub.status.busy": "2021-10-09T08:11:38.167568Z",
     "iopub.status.idle": "2021-10-09T08:11:38.717903Z"
    }
   },
   "outputs": [
    {
     "data": {
      "image/png": "[encoded data removed]",
      "text/plain": [
       "plot without title"
      ]
     },
     "metadata": {
      "image/png": {
       "height": 420,
       "width": 420
      }
     },
     "output_type": "display_data"
    }
   ],
   "source": [
    "# Use ggplot2 to visualize the relationship between family size & survival\n",
    "ggplot(full[1:891,], aes(x = Fsize, fill = factor(Survived))) +\n",
    "  geom_bar(stat='count', position='dodge') +\n",
    "  scale_x_continuous(breaks=c(1:11)) +\n",
    "  labs(x = 'Family Size') +\n",
    "  theme_bw()"
   ]
  },
  {
   "cell_type": "code",
   "execution_count": 32,
   "metadata": {
    "execution": {
     "iopub.execute_input": "2021-10-09T08:11:38.721513Z",
     "iopub.status.busy": "2021-10-09T08:11:38.720126Z",
     "iopub.status.idle": "2021-10-09T08:11:38.736277Z"
    }
   },
   "outputs": [],
   "source": [
    "# Discretize family size\n",
    "full$FsizeD[full$Fsize == 1] <- 'singleton'\n",
    "full$FsizeD[full$Fsize < 5 & full$Fsize > 1] <- 'small'\n",
    "full$FsizeD[full$Fsize > 4] <- 'large'"
   ]
  },
  {
   "cell_type": "code",
   "execution_count": 33,
   "metadata": {},
   "outputs": [],
   "source": [
    "# Create a Deck variable. Get passenger deck A - F:\n",
    "full$Deck<-factor(sapply(full$Cabin, function(x) strsplit(x, NULL)[[1]][1]))"
   ]
  },
  {
   "cell_type": "code",
   "execution_count": 34,
   "metadata": {
    "execution": {
     "iopub.execute_input": "2021-10-09T08:11:38.798222Z",
     "iopub.status.busy": "2021-10-09T08:11:38.796888Z",
     "iopub.status.idle": "2021-10-09T08:11:38.812637Z"
    }
   },
   "outputs": [
    {
     "data": {
      "text/html": [
       "<style>\n",
       ".list-inline {list-style: none; margin:0; padding: 0}\n",
       ".list-inline>li {display: inline-block}\n",
       ".list-inline>li:not(:last-child)::after {content: \"\\00b7\"; padding: 0 .5ex}\n",
       "</style>\n",
       "<ol class=list-inline><li>''</li><li>''</li></ol>\n"
      ],
      "text/latex": [
       "\\begin{enumerate*}\n",
       "\\item ''\n",
       "\\item ''\n",
       "\\end{enumerate*}\n"
      ],
      "text/markdown": [
       "1. ''\n",
       "2. ''\n",
       "\n",
       "\n"
      ],
      "text/plain": [
       "[1] \"\" \"\""
      ]
     },
     "metadata": {},
     "output_type": "display_data"
    }
   ],
   "source": [
    "# Passengers 62 and 830 are missing Embarkment\n",
    "full[c(62, 830), 'Embarked']"
   ]
  },
  {
   "cell_type": "code",
   "execution_count": 35,
   "metadata": {
    "execution": {
     "iopub.execute_input": "2021-10-09T08:11:38.816232Z",
     "iopub.status.busy": "2021-10-09T08:11:38.814908Z",
     "iopub.status.idle": "2021-10-09T08:11:38.827553Z"
    }
   },
   "outputs": [],
   "source": [
    "# Since their fare was $80 for 1st class, they most likely embarked from 'C'\n",
    "full$Embarked[c(62, 830)] <- 'C'"
   ]
  },
  {
   "cell_type": "code",
   "execution_count": 36,
   "metadata": {
    "execution": {
     "iopub.execute_input": "2021-10-09T08:11:38.831115Z",
     "iopub.status.busy": "2021-10-09T08:11:38.829825Z",
     "iopub.status.idle": "2021-10-09T08:11:39.099738Z"
    }
   },
   "outputs": [
    {
     "name": "stderr",
     "output_type": "stream",
     "text": [
      "Warning message:\n",
      "\"Removed 1 rows containing non-finite values (stat_density).\"\n"
     ]
    },
    {
     "data": {
      "image/png": "[encoded data removed]",
      "text/plain": [
       "plot without title"
      ]
     },
     "metadata": {
      "image/png": {
       "height": 420,
       "width": 420
      }
     },
     "output_type": "display_data"
    }
   ],
   "source": [
    "ggplot(full[full$Pclass == '3' & full$Embarked == 'S', ], \n",
    "  aes(x = Fare)) +\n",
    "  geom_density(fill = '#99d6ff', alpha=0.4) + \n",
    "  geom_vline(aes(xintercept=median(Fare, na.rm=T)),\n",
    "    colour='red', linetype='dashed', lwd=1) +\n",
    "  scale_x_continuous(labels=dollar_format()) +\n",
    "  theme_bw()"
   ]
  },
  {
   "cell_type": "code",
   "execution_count": 37,
   "metadata": {
    "execution": {
     "iopub.execute_input": "2021-10-09T08:11:39.103786Z",
     "iopub.status.busy": "2021-10-09T08:11:39.102332Z",
     "iopub.status.idle": "2021-10-09T08:11:39.116575Z"
    }
   },
   "outputs": [],
   "source": [
    "# Replace missing fare value with median fare for class/embarkment\n",
    "full$Fare[1044] <- median(full[full$Pclass == '3' & full$Embarked == 'S', ]$Fare, na.rm = TRUE)"
   ]
  },
  {
   "cell_type": "code",
   "execution_count": 38,
   "metadata": {
    "execution": {
     "iopub.execute_input": "2021-10-09T08:11:39.120487Z",
     "iopub.status.busy": "2021-10-09T08:11:39.119067Z",
     "iopub.status.idle": "2021-10-09T08:11:52.189204Z"
    }
   },
   "outputs": [
    {
     "name": "stdout",
     "output_type": "stream",
     "text": [
      "\n",
      " iter imp variable\n",
      "  1   1  Age  Deck\n",
      "  1   2  Age  Deck\n",
      "  1   3  Age  Deck\n",
      "  1   4  Age  Deck\n",
      "  1   5  Age  Deck\n",
      "  2   1  Age  Deck\n",
      "  2   2  Age  Deck\n",
      "  2   3  Age  Deck\n",
      "  2   4  Age  Deck\n",
      "  2   5  Age  Deck\n",
      "  3   1  Age  Deck\n",
      "  3   2  Age  Deck\n",
      "  3   3  Age  Deck\n",
      "  3   4  Age  Deck\n",
      "  3   5  Age  Deck\n",
      "  4   1  Age  Deck\n",
      "  4   2  Age  Deck\n",
      "  4   3  Age  Deck\n",
      "  4   4  Age  Deck\n",
      "  4   5  Age  Deck\n",
      "  5   1  Age  Deck\n",
      "  5   2  Age  Deck\n",
      "  5   3  Age  Deck\n",
      "  5   4  Age  Deck\n",
      "  5   5  Age  Deck\n"
     ]
    },
    {
     "name": "stderr",
     "output_type": "stream",
     "text": [
      "Warning message:\n",
      "\"Number of logged events: 50\"\n"
     ]
    }
   ],
   "source": [
    "# Make variables factors into factors\n",
    "factor_vars <- c('PassengerId','Pclass','Sex','Embarked',\n",
    "                 'Title','Family','FsizeD')\n",
    "\n",
    "full[factor_vars] <- lapply(full[factor_vars], function(x) as.factor(x))\n",
    "\n",
    "# Set a random seed\n",
    "set.seed(129)\n",
    "\n",
    "# Perform mice imputation, excluding certain less-than-useful variables:\n",
    "mice_mod <- mice(full[, !names(full) %in% c('PassengerId','Name','Ticket','Cabin','Family','Survived')], method='rf') "
   ]
  },
  {
   "cell_type": "code",
   "execution_count": 39,
   "metadata": {
    "execution": {
     "iopub.execute_input": "2021-10-09T08:11:52.192917Z",
     "iopub.status.busy": "2021-10-09T08:11:52.191549Z",
     "iopub.status.idle": "2021-10-09T08:11:52.206772Z"
    }
   },
   "outputs": [],
   "source": [
    "# Save the complete output \n",
    "mice_output <- complete(mice_mod)"
   ]
  },
  {
   "cell_type": "code",
   "execution_count": 40,
   "metadata": {
    "execution": {
     "iopub.execute_input": "2021-10-09T08:11:52.210614Z",
     "iopub.status.busy": "2021-10-09T08:11:52.209181Z",
     "iopub.status.idle": "2021-10-09T08:11:52.298265Z"
    }
   },
   "outputs": [
    {
     "data": {
      "image/png": "[encoded data removed]",
      "text/plain": [
       "Plot with title \"Age: MICE Output\""
      ]
     },
     "metadata": {
      "image/png": {
       "height": 420,
       "width": 420
      }
     },
     "output_type": "display_data"
    }
   ],
   "source": [
    "# Plot age distributions\n",
    "par(mfrow=c(1,2))\n",
    "hist(full$Age, freq=F, main='Age: Original Data', \n",
    "  col='darkgreen', ylim=c(0,0.04))\n",
    "hist(mice_output$Age, freq=F, main='Age: MICE Output', \n",
    "  col='lightgreen', ylim=c(0,0.04))"
   ]
  },
  {
   "cell_type": "code",
   "execution_count": 41,
   "metadata": {
    "execution": {
     "iopub.execute_input": "2021-10-09T08:11:52.302109Z",
     "iopub.status.busy": "2021-10-09T08:11:52.300699Z",
     "iopub.status.idle": "2021-10-09T08:11:52.326505Z"
    }
   },
   "outputs": [
    {
     "data": {
      "text/html": [
       "0"
      ],
      "text/latex": [
       "0"
      ],
      "text/markdown": [
       "0"
      ],
      "text/plain": [
       "[1] 0"
      ]
     },
     "metadata": {},
     "output_type": "display_data"
    }
   ],
   "source": [
    "# Replace Age variable from the mice model.\n",
    "full$Age <- mice_output$Age\n",
    "\n",
    "# Show new number of missing Age values\n",
    "sum(is.na(full$Age))"
   ]
  },
  {
   "cell_type": "markdown",
   "metadata": {},
   "source": [
    "## Save processed training data for modelling "
   ]
  },
  {
   "cell_type": "code",
   "execution_count": 42,
   "metadata": {
    "execution": {
     "iopub.execute_input": "2021-10-09T08:11:52.332423Z",
     "iopub.status.busy": "2021-10-09T08:11:52.330111Z",
     "iopub.status.idle": "2021-10-09T08:11:52.352601Z"
    }
   },
   "outputs": [],
   "source": [
    "# Split the data back into a train set and a test set\n",
    "train <- full[1:891,]\n",
    "test <- full[892:1309,]\n",
    "\n",
    "train1 = train[,c(\"Survived\",\"Pclass\", \"Sex\", \"Age\", \"SibSp\", \"Parch\", \n",
    "                                            \"Fare\", \"Embarked\", \"Title\", \n",
    "                                            \"FsizeD\")]"
   ]
  },
  {
   "cell_type": "code",
   "execution_count": 84,
   "metadata": {},
   "outputs": [],
   "source": [
    "write.csv(train1,\"titanic.csv\")"
   ]
  }
 ],
 "metadata": {
  "kernelspec": {
   "display_name": "R",
   "language": "R",
   "name": "ir"
  },
  "language_info": {
   "codemirror_mode": "r",
   "file_extension": ".r",
   "mimetype": "text/x-r-source",
   "name": "R",
   "pygments_lexer": "r",
   "version": "4.0.2"
  }
 },
 "nbformat": 4,
 "nbformat_minor": 4
}
